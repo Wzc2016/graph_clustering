{
 "cells": [
  {
   "cell_type": "code",
   "execution_count": 1,
   "metadata": {},
   "outputs": [],
   "source": [
    "import numpy as np\n",
    "import time\n",
    "import matplotlib.pyplot as plt\n",
    "import scipy.sparse as sp\n",
    "from sklearn.cluster import KMeans\n",
    "from sklearn.cluster import SpectralClustering\n",
    "from sklearn import datasets\n",
    "from sklearn.decomposition import PCA\n",
    "from sklearn.metrics.cluster import completeness_score\n",
    "from sklearn.metrics.cluster import v_measure_score\n",
    "from sklearn.metrics.cluster import homogeneity_score\n",
    "from sklearn.metrics.cluster import mutual_info_score\n",
    "from sklearn.metrics.cluster import fowlkes_mallows_score\n",
    "from sklearn.metrics.cluster import adjusted_rand_score\n",
    "from sklearn.metrics.cluster import adjusted_mutual_info_score"
   ]
  },
  {
   "cell_type": "code",
   "execution_count": null,
   "metadata": {},
   "outputs": [],
   "source": [
    "def reduce(pos):\n",
    "    model = PCA(n_components=2)\n",
    "    W = model.fit_transform(pos)\n",
    "    H = model.components_\n",
    "    return W\n",
    "\n",
    "n_samples = 1500\n",
    "\n",
    "blobs = datasets.make_blobs(n_samples=n_samples, random_state=8)\n",
    "# blobs[0]\n",
    "plt.scatter(blobs[0][:, 0], blobs[0][:, 1])\n",
    "clustering = SpectralClustering(n_clusters=3).fit(blobs[0])\n",
    "print(fowlkes_mallows_score(blobs[1], clustering.labels_))"
   ]
  },
  {
   "cell_type": "code",
   "execution_count": null,
   "metadata": {},
   "outputs": [],
   "source": [
    "def generate_A(points):\n",
    "    n = len(points)\n",
    "    A = np.zeros((n, n))\n",
    "    for i in range(n - 1):\n",
    "        for j in range(i + 1, n):\n",
    "            A[i][j] = 1.0 / np.linalg.norm(points[i] - points[j])\n",
    "            A[j][i] = 1.0 / np.linalg.norm(points[i] - points[j])\n",
    "    return A\n",
    "A = generate_A(blobs[0])"
   ]
  },
  {
   "cell_type": "code",
   "execution_count": null,
   "metadata": {},
   "outputs": [],
   "source": [
    "def normalize(mx):\n",
    "    \"\"\"Row-normalize sparse matrix\"\"\"\n",
    "    rowsum = np.array(mx.sum(1))\n",
    "    r_inv = np.power(rowsum, -1).flatten()\n",
    "    r_inv[np.isinf(r_inv)] = 0.\n",
    "    r_mat_inv = sp.diags(r_inv)\n",
    "    mx = r_mat_inv.dot(mx)\n",
    "    return mx\n",
    "\n",
    "time1 = time.time()\n",
    "# norm_A = normalize(np.eye(34) + A)\n",
    "\n",
    "temp = np.zeros((n_samples, 3))\n",
    "for i in range(20):\n",
    "    A_ = np.multiply(np.random.binomial(1, 0.95, n_samples * n_samples).reshape(n_samples, n_samples), A)\n",
    "    norm_A = normalize(A_)\n",
    "    \n",
    "    X = np.random.randn(n_samples, 3)\n",
    "    for i in range(50):\n",
    "        X = norm_A @ X\n",
    "#         X = X - X.mean(axis=0)\n",
    "#         X = X @ np.diag(np.array(X.std(axis=0)).flatten() ** (-1))\n",
    "    temp = temp + X\n",
    "    \n",
    "time2 = time.time()\n",
    "print(time2 - time1)\n",
    "\n",
    "kmeans = KMeans(n_clusters=3).fit(temp)\n",
    "print(fowlkes_mallows_score(blobs[1], kmeans.labels_))\n",
    "\n",
    "W = reduce(X)\n",
    "print(temp.shape, X, W)\n",
    "plt.figure(figsize=(6, 4))\n",
    "plt.scatter(1000*W[:, 0], 1000000*W[:, 1], cmap=plt.cm.Spectral)"
   ]
  },
  {
   "cell_type": "code",
   "execution_count": null,
   "metadata": {},
   "outputs": [],
   "source": [
    "time1 = time.time()\n",
    "# clustering = SpectralClustering(n_clusters=num_clusters, affinity='nearest_neighbors').fit(A)\n",
    "\n",
    "D = np.diag(np.sum(A, axis=1))\n",
    "# print(D)\n",
    "L = D - A\n",
    "vals, vecs = np.linalg.eig( L)\n",
    "vecs = vecs[:,np.argsort(vals)]\n",
    "vals = vals[np.argsort(vals)]\n",
    "\n",
    "vecs = vecs[:, :3]\n",
    "# print(vecs[])\n",
    "\n",
    "clustering = KMeans(n_clusters=3).fit(vecs)\n",
    "# clustering.labels_\n",
    "# sum(clustering.labels_)/len(clustering.labels_)\n",
    "\n",
    "time2 = time.time()\n",
    "# sum(clustering.labels_)\n",
    "\n",
    "print(time2-time1)\n",
    "\n",
    "W = reduce(vecs)\n",
    "print( vecs, W)\n",
    "plt.figure(figsize=(6, 4))\n",
    "plt.scatter(W[:, 0], W[:, 1], cmap=plt.cm.Spectral)"
   ]
  },
  {
   "cell_type": "code",
   "execution_count": null,
   "metadata": {},
   "outputs": [],
   "source": [
    "target = blobs[1]\n",
    "print(completeness_score(target, clustering.labels_))\n",
    "print(v_measure_score(target, clustering.labels_))\n",
    "print(homogeneity_score(target, clustering.labels_))\n",
    "print(adjusted_rand_score(target, clustering.labels_))\n",
    "print(fowlkes_mallows_score(target, clustering.labels_))\n",
    "print(adjusted_mutual_info_score(target, clustering.labels_))"
   ]
  }
 ],
 "metadata": {
  "kernelspec": {
   "display_name": "Python 3",
   "language": "python",
   "name": "python3"
  },
  "language_info": {
   "codemirror_mode": {
    "name": "ipython",
    "version": 3
   },
   "file_extension": ".py",
   "mimetype": "text/x-python",
   "name": "python",
   "nbconvert_exporter": "python",
   "pygments_lexer": "ipython3",
   "version": "3.6.8"
  }
 },
 "nbformat": 4,
 "nbformat_minor": 4
}
