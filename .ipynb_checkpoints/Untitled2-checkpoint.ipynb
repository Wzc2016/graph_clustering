{
 "cells": [
  {
   "cell_type": "code",
   "execution_count": 2,
   "metadata": {},
   "outputs": [],
   "source": [
    "import numpy as np\n",
    "import time\n",
    "import matplotlib.pyplot as plt\n",
    "from sklearn.cluster import KMeans\n",
    "from sklearn.cluster import SpectralClustering\n",
    "from sklearn import datasets\n",
    "from sklearn.decomposition import PCA\n",
    "from sklearn.metrics.cluster import completeness_score\n",
    "from sklearn.metrics.cluster import v_measure_score\n",
    "from sklearn.metrics.cluster import homogeneity_score\n",
    "from sklearn.metrics.cluster import mutual_info_score\n",
    "from sklearn.metrics.cluster import fowlkes_mallows_score\n",
    "from sklearn.metrics.cluster import adjusted_rand_score\n",
    "from sklearn.metrics.cluster import adjusted_mutual_info_score"
   ]
  },
  {
   "cell_type": "code",
   "execution_count": 5,
   "metadata": {},
   "outputs": [],
   "source": [
    "fo = open(\"./citeseer/citeseer.edges\", \"r\")\n",
    "lines = fo.readlines()\n",
    "\n",
    "# A = np.zeros((n, n))\n",
    "n = 0\n",
    "\n",
    "for line in lines:\n",
    "    p = line.index(',')\n",
    "    x = int(line[:p])\n",
    "    y = int(line[p + 1:p + line[p + 1:].index(',') + 1])\n",
    "    if x > n:\n",
    "        n = x\n",
    "    if y > n:\n",
    "        n = y\n",
    "\n",
    "A = np.zeros((n , n ))\n",
    "\n",
    "for line in lines:\n",
    "    p = line.index(',')\n",
    "    x = int(line[:p])\n",
    "    y = int(line[p + 1:p + line[p + 1:].index(',') + 1])\n",
    "    A[x - 1][y - 1] = 1"
   ]
  },
  {
   "cell_type": "code",
   "execution_count": 19,
   "metadata": {},
   "outputs": [
    {
     "data": {
      "text/plain": [
       "array([2., 2., 4., 5., 6.])"
      ]
     },
     "execution_count": 19,
     "metadata": {},
     "output_type": "execute_result"
    }
   ],
   "source": [
    "fo = open(\"./citeseer/citeseer.node_labels\", \"r\")\n",
    "lines = fo.readlines()\n",
    "\n",
    "num_clusters = 0\n",
    "target = np.zeros(n)\n",
    "for line in lines:\n",
    "    p = line.index(',')\n",
    "    x = int(line[:p])\n",
    "    y = int(line[p + 1:])\n",
    "    target[x - 1] = y\n",
    "    if y > num_clusters:\n",
    "        num_clusters = y\n",
    "target[7:12]"
   ]
  },
  {
   "cell_type": "code",
   "execution_count": 47,
   "metadata": {},
   "outputs": [],
   "source": [
    "node_color = [0 for i in range(n)]\n",
    "for i in range(n):\n",
    "    if target[i] == 1:\n",
    "        node_color[i] = 'red'\n",
    "    if target[i] == 2:\n",
    "        node_color[i] = 'blue'\n",
    "    if target[i] == 3:\n",
    "        node_color[i] = 'green'\n",
    "    if target[i] == 4:\n",
    "        node_color[i] = 'grey'\n",
    "    if target[i] == 5:\n",
    "        node_color[i] = 'yellow'\n",
    "    if target[i] == 6:\n",
    "        node_color[i] = 'pink'"
   ]
  },
  {
   "cell_type": "code",
   "execution_count": 66,
   "metadata": {},
   "outputs": [],
   "source": [
    "def reduce(pos):\n",
    "    model = PCA(n_components=2)\n",
    "    W = model.fit_transform(pos)\n",
    "    H = model.components_\n",
    "    return W\n",
    "def draw2(pos):\n",
    "#     model = TSNE(n_components=2, random_state=0)\n",
    "#     Y = model.fit_transform(pos) \n",
    "    plt.figure(figsize=(6, 4))\n",
    "    Y = reduce(pos)\n",
    "    plt.scatter(Y[:, 0], Y[:, 1], c=node_color, cmap=plt.cm.Spectral)\n",
    "#     plt.xlim(left=0)\n",
    "#     plt.xlim(right=2.5e-14)"
   ]
  },
  {
   "cell_type": "code",
   "execution_count": 67,
   "metadata": {
    "scrolled": true
   },
   "outputs": [
    {
     "data": {
      "text/plain": [
       "array([[ 3.34676104e-15,  9.86639414e-15],\n",
       "       [-5.76297354e-15,  1.57313328e-18],\n",
       "       [-1.09279020e-14,  2.88029781e-15],\n",
       "       ...,\n",
       "       [-4.99446917e-16,  6.12254818e-16],\n",
       "       [-4.99446917e-16,  6.12254818e-16],\n",
       "       [-4.99446917e-16,  6.12254818e-16]])"
      ]
     },
     "execution_count": 67,
     "metadata": {},
     "output_type": "execute_result"
    },
    {
     "data": {
      "image/png": "[encoded data removed]",
      "text/plain": [
       "<Figure size 432x288 with 1 Axes>"
      ]
     },
     "metadata": {
      "needs_background": "light"
     },
     "output_type": "display_data"
    }
   ],
   "source": [
    "draw2(vecs)\n",
    "reduce(vecs)"
   ]
  },
  {
   "cell_type": "code",
   "execution_count": 30,
   "metadata": {
    "scrolled": true
   },
   "outputs": [
    {
     "name": "stdout",
     "output_type": "stream",
     "text": [
      "1.0\n"
     ]
    },
    {
     "data": {
      "image/png": "[encoded data removed]",
      "text/plain": [
       "<Figure size 432x288 with 1 Axes>"
      ]
     },
     "metadata": {
      "needs_background": "light"
     },
     "output_type": "display_data"
    }
   ],
   "source": [
    "n_samples = 1500\n",
    "\n",
    "blobs = datasets.make_blobs(n_samples=n_samples, random_state=8)\n",
    "# blobs[0]\n",
    "plt.scatter(blobs[0][:, 0], blobs[0][:, 1])\n",
    "clustering = SpectralClustering(n_clusters=3).fit(blobs[0])\n",
    "print(fowlkes_mallows_score(blobs[1], clustering.labels_))"
   ]
  },
  {
   "cell_type": "code",
   "execution_count": null,
   "metadata": {},
   "outputs": [],
   "source": [
    "def generate_A(points):\n",
    "    "
   ]
  },
  {
   "cell_type": "code",
   "execution_count": 7,
   "metadata": {},
   "outputs": [],
   "source": [
    "time1 = time.time()\n",
    "# clustering = SpectralClustering(n_clusters=num_clusters, affinity='nearest_neighbors').fit(A)\n",
    "\n",
    "D = np.diag(np.sum(A, axis=1))\n",
    "# print(D)\n",
    "L = D - A\n",
    "vals, vecs = np.linalg.eig( L)\n",
    "vecs = vecs[:,np.argsort(vals)]\n",
    "vals = vals[np.argsort(vals)]\n",
    "\n",
    "vecs = vecs[:, :6]\n",
    "# print(vecs[])\n",
    "\n",
    "clustering = KMeans(n_clusters=num_clusters).fit(vecs)\n",
    "# clustering.labels_\n",
    "# sum(clustering.labels_)/len(clustering.labels_)\n",
    "\n",
    "# time2 = time.time()\n",
    "# sum(clustering.labels_)\n",
    "\n",
    "# print(time2-time1)"
   ]
  },
  {
   "cell_type": "code",
   "execution_count": 8,
   "metadata": {},
   "outputs": [
    {
     "name": "stdout",
     "output_type": "stream",
     "text": [
      "0.18313976630392687\n",
      "0.0033799359545156078\n",
      "0.0017057078226061855\n",
      "-0.00017010895216980817\n",
      "0.4218701509374135\n",
      "0.00013151744186099527\n"
     ]
    }
   ],
   "source": [
    "print(completeness_score(target, clustering.labels_))\n",
    "print(v_measure_score(target, clustering.labels_))\n",
    "print(homogeneity_score(target, clustering.labels_))\n",
    "print(adjusted_rand_score(target, clustering.labels_))\n",
    "print(fowlkes_mallows_score(target, clustering.labels_))\n",
    "print(adjusted_mutual_info_score(target, clustering.labels_))"
   ]
  }
 ],
 "metadata": {
  "kernelspec": {
   "display_name": "Python 3",
   "language": "python",
   "name": "python3"
  },
  "language_info": {
   "codemirror_mode": {
    "name": "ipython",
    "version": 3
   },
   "file_extension": ".py",
   "mimetype": "text/x-python",
   "name": "python",
   "nbconvert_exporter": "python",
   "pygments_lexer": "ipython3",
   "version": "3.6.8"
  }
 },
 "nbformat": 4,
 "nbformat_minor": 4
}
