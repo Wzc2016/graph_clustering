{
 "cells": [
  {
   "cell_type": "code",
   "execution_count": 2,
   "metadata": {},
   "outputs": [],
   "source": [
    "import networkx as nx\n",
    "import matplotlib.pyplot as plt\n",
    "import numpy as np\n",
    "import scipy.sparse as sp\n",
    "from matplotlib.animation import FuncAnimation\n",
    "from sklearn.decomposition import PCA\n",
    "from sklearn.manifold import TSNE\n",
    "from sklearn.cluster import SpectralClustering\n",
    "from sklearn.cluster import KMeans\n",
    "from sklearn import mixture\n",
    "import time"
   ]
  },
  {
   "cell_type": "code",
   "execution_count": 3,
   "metadata": {},
   "outputs": [
    {
     "name": "stdout",
     "output_type": "stream",
     "text": [
      "[2.77555756e-16 1.32272329e-01 2.87048985e-01 3.87313233e-01\n",
      " 6.12230540e-01 6.48992947e-01 7.07208202e-01 7.39957989e-01\n",
      " 7.70910617e-01 8.22942852e-01 8.64832945e-01 9.06816002e-01\n",
      " 1.00000000e+00 1.00000000e+00 1.00000000e+00 1.00000000e+00\n",
      " 1.00000000e+00 1.00000000e+00 1.00000000e+00 1.00000000e+00\n",
      " 1.00000000e+00 1.00000000e+00 1.10538084e+00 1.15929996e+00\n",
      " 1.26802355e+00 1.35177826e+00 1.39310454e+00 1.41691585e+00\n",
      " 1.44857938e+00 1.49703011e+00 1.56950660e+00 1.58333333e+00\n",
      " 1.61190959e+00 1.71461135e+00]\n",
      "0.1502671241760254\n",
      "0.9411764705882353\n"
     ]
    }
   ],
   "source": [
    "G = nx.karate_club_graph()\n",
    "A = nx.adjacency_matrix(G)\n",
    "\n",
    "time1 = time.time()\n",
    "# clustering = SpectralClustering(n_clusters=2, affinity='nearest_neighbors').fit(A)\n",
    "D = np.diag(np.sum(np.array(A.todense()), axis=1))\n",
    "L = D - A\n",
    "vals, vecs = np.linalg.eig( np.linalg.inv(D) @ L)\n",
    "vecs = vecs[:,np.argsort(vals)]\n",
    "vals = vals[np.argsort(vals)]\n",
    "print(vals)\n",
    "vecs = vecs[:, :2]\n",
    "\n",
    "clustering = KMeans(n_clusters=2).fit(vecs)\n",
    "time2 = time.time()\n",
    "clustering.labels_\n",
    "target = np.zeros(34)\n",
    "for i in range(len(G.nodes)):\n",
    "    if G.nodes[i]['club'] == 'Mr. Hi':\n",
    "        target[i] = 0\n",
    "    else:\n",
    "        target[i] = 1\n",
    "\n",
    "def compute_accuracy(arr1, arr2):\n",
    "    if len(arr1) != len(arr2):\n",
    "        print('length not equal')\n",
    "        return\n",
    "    n = len(arr1)\n",
    "    hits = 0\n",
    "    for i in range(n):\n",
    "        if arr1[i] == arr2[i]:\n",
    "            hits += 1\n",
    "    return max(hits/n, 1- hits/n)\n",
    "print(time2-time1)\n",
    "print(compute_accuracy(clustering.labels_, target))"
   ]
  },
  {
   "cell_type": "code",
   "execution_count": 43,
   "metadata": {},
   "outputs": [
    {
     "name": "stdout",
     "output_type": "stream",
     "text": [
      "0.02485346794128418\n",
      "0.8823529411764706\n",
      "0.8823529411764706\n"
     ]
    }
   ],
   "source": [
    "def normalize(mx):\n",
    "    \"\"\"Row-normalize sparse matrix\"\"\"\n",
    "    rowsum = np.array(mx.sum(1))\n",
    "    r_inv = np.power(rowsum, -1).flatten()\n",
    "    r_inv[np.isinf(r_inv)] = 0.\n",
    "    r_mat_inv = sp.diags(r_inv)\n",
    "    mx = r_mat_inv.dot(mx)\n",
    "    return mx\n",
    "\n",
    "time1 = time.time()\n",
    "norm_A = normalize(np.eye(34) + A)\n",
    "X = np.random.randn(34, 3)\n",
    "for i in range(100):\n",
    "    X = norm_A @ X @ np.diag(np.array(X.std(axis=0)).flatten() ** (-1))\n",
    "    X = X - np.ones((X.shape[0], 1)) @ X.mean(axis=0)\n",
    "GMM = mixture.GaussianMixture(n_components=2).fit(X).predict(X)\n",
    "time2 = time.time()\n",
    "print(time2-time1)\n",
    "\n",
    "kmeans = KMeans(n_clusters=2, random_state=0).fit(X)\n",
    "print(compute_accuracy(kmeans.labels_, target))\n",
    "print(compute_accuracy(GMM, target))"
   ]
  },
  {
   "cell_type": "code",
   "execution_count": null,
   "metadata": {},
   "outputs": [],
   "source": []
  }
 ],
 "metadata": {
  "kernelspec": {
   "display_name": "Python 3",
   "language": "python",
   "name": "python3"
  },
  "language_info": {
   "codemirror_mode": {
    "name": "ipython",
    "version": 3
   },
   "file_extension": ".py",
   "mimetype": "text/x-python",
   "name": "python",
   "nbconvert_exporter": "python",
   "pygments_lexer": "ipython3",
   "version": "3.6.8"
  }
 },
 "nbformat": 4,
 "nbformat_minor": 4
}
