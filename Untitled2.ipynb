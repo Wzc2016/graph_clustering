{
 "cells": [
  {
   "cell_type": "code",
   "execution_count": 58,
   "metadata": {},
   "outputs": [],
   "source": [
    "import numpy as np\n",
    "import time\n",
    "import matplotlib.pyplot as plt\n",
    "import scipy.sparse as sp\n",
    "from sklearn.cluster import KMeans\n",
    "from sklearn.cluster import SpectralClustering\n",
    "from sklearn import datasets\n",
    "from sklearn.decomposition import PCA\n",
    "from sklearn.metrics.cluster import completeness_score\n",
    "from sklearn.metrics.cluster import v_measure_score\n",
    "from sklearn.metrics.cluster import homogeneity_score\n",
    "from sklearn.metrics.cluster import mutual_info_score\n",
    "from sklearn.metrics.cluster import fowlkes_mallows_score\n",
    "from sklearn.metrics.cluster import adjusted_rand_score\n",
    "from sklearn.metrics.cluster import adjusted_mutual_info_score"
   ]
  },
  {
   "cell_type": "code",
   "execution_count": 5,
   "metadata": {},
   "outputs": [],
   "source": [
    "fo = open(\"./citeseer/citeseer.edges\", \"r\")\n",
    "lines = fo.readlines()\n",
    "\n",
    "# A = np.zeros((n, n))\n",
    "n = 0\n",
    "\n",
    "for line in lines:\n",
    "    p = line.index(',')\n",
    "    x = int(line[:p])\n",
    "    y = int(line[p + 1:p + line[p + 1:].index(',') + 1])\n",
    "    if x > n:\n",
    "        n = x\n",
    "    if y > n:\n",
    "        n = y\n",
    "\n",
    "A = np.zeros((n , n ))\n",
    "\n",
    "for line in lines:\n",
    "    p = line.index(',')\n",
    "    x = int(line[:p])\n",
    "    y = int(line[p + 1:p + line[p + 1:].index(',') + 1])\n",
    "    A[x - 1][y - 1] = 1"
   ]
  },
  {
   "cell_type": "code",
   "execution_count": 19,
   "metadata": {},
   "outputs": [
    {
     "data": {
      "text/plain": [
       "array([2., 2., 4., 5., 6.])"
      ]
     },
     "execution_count": 19,
     "metadata": {},
     "output_type": "execute_result"
    }
   ],
   "source": [
    "fo = open(\"./citeseer/citeseer.node_labels\", \"r\")\n",
    "lines = fo.readlines()\n",
    "\n",
    "num_clusters = 0\n",
    "target = np.zeros(n)\n",
    "for line in lines:\n",
    "    p = line.index(',')\n",
    "    x = int(line[:p])\n",
    "    y = int(line[p + 1:])\n",
    "    target[x - 1] = y\n",
    "    if y > num_clusters:\n",
    "        num_clusters = y"
   ]
  },
  {
   "cell_type": "code",
   "execution_count": 115,
   "metadata": {},
   "outputs": [],
   "source": [
    "def reduce(pos):\n",
    "    model = PCA(n_components=2)\n",
    "    W = model.fit_transform(pos)\n",
    "    H = model.components_\n",
    "    return W"
   ]
  },
  {
   "cell_type": "code",
   "execution_count": 30,
   "metadata": {
    "scrolled": true
   },
   "outputs": [
    {
     "name": "stdout",
     "output_type": "stream",
     "text": [
      "1.0\n"
     ]
    },
    {
     "data": {
      "image/png": "[encoded data removed]",
      "text/plain": [
       "<Figure size 432x288 with 1 Axes>"
      ]
     },
     "metadata": {
      "needs_background": "light"
     },
     "output_type": "display_data"
    }
   ],
   "source": [
    "n_samples = 1500\n",
    "\n",
    "blobs = datasets.make_blobs(n_samples=n_samples, random_state=8)\n",
    "# blobs[0]\n",
    "plt.scatter(blobs[0][:, 0], blobs[0][:, 1])\n",
    "clustering = SpectralClustering(n_clusters=3).fit(blobs[0])\n",
    "print(fowlkes_mallows_score(blobs[1], clustering.labels_))"
   ]
  },
  {
   "cell_type": "code",
   "execution_count": 97,
   "metadata": {},
   "outputs": [],
   "source": [
    "def generate_A(points):\n",
    "    n = len(points)\n",
    "    A = np.zeros((n, n))\n",
    "    for i in range(n - 1):\n",
    "        for j in range(i + 1, n):\n",
    "            A[i][j] = 1.0 / np.linalg.norm(points[i] - points[j])\n",
    "            A[j][i] = 1.0 / np.linalg.norm(points[i] - points[j])\n",
    "    return A\n",
    "A = generate_A(blobs[0])"
   ]
  },
  {
   "cell_type": "code",
   "execution_count": 149,
   "metadata": {},
   "outputs": [
    {
     "name": "stdout",
     "output_type": "stream",
     "text": [
      "[[0.         0.56368146 0.37786444 ... 0.30825459 0.04835485 0.05054191]\n",
      " [0.56368146 0.         0.59103146 ... 0.43398753 0.04526309 0.04708336]\n",
      " [0.37786444 0.59103146 0.         ... 1.5694922  0.04286907 0.0445841 ]\n",
      " ...\n",
      " [0.30825459 0.43398753 1.5694922  ... 0.         0.04181476 0.0434612 ]\n",
      " [0.04835485 0.04526309 0.04286907 ... 0.04181476 0.         0.83592856]\n",
      " [0.05054191 0.04708336 0.0445841  ... 0.0434612  0.83592856 0.        ]]\n",
      "8.191962957382202\n",
      "0.9841633855740743\n",
      "(1500, 3) [[-0.03180364 -0.02577281 -0.031769  ]\n",
      " [-0.03180381 -0.02577272 -0.03176895]\n",
      " [-0.03180424 -0.02577249 -0.03176883]\n",
      " ...\n",
      " [-0.03180407 -0.02577258 -0.03176888]\n",
      " [-0.03179056 -0.02577982 -0.03177265]\n",
      " [-0.03179211 -0.02577899 -0.03177222]] [[-5.09777770e-06 -5.10508017e-09]\n",
      " [-5.29446906e-06 -6.00975780e-09]\n",
      " [-5.79946950e-06 -7.27774596e-09]\n",
      " ...\n",
      " [-5.60060088e-06 -6.80754578e-09]\n",
      " [ 1.01930590e-05 -9.79892289e-10]\n",
      " [ 8.37391109e-06 -5.82537441e-10]]\n"
     ]
    },
    {
     "data": {
      "text/plain": [
       "<matplotlib.collections.PathCollection at 0x7fe5bc38dd68>"
      ]
     },
     "execution_count": 149,
     "metadata": {},
     "output_type": "execute_result"
    },
    {
     "data": {
      "image/png": "[encoded data removed]",
      "text/plain": [
       "<Figure size 432x288 with 1 Axes>"
      ]
     },
     "metadata": {
      "needs_background": "light"
     },
     "output_type": "display_data"
    }
   ],
   "source": [
    "print(A)\n",
    "\n",
    "def normalize(mx):\n",
    "    \"\"\"Row-normalize sparse matrix\"\"\"\n",
    "    rowsum = np.array(mx.sum(1))\n",
    "    r_inv = np.power(rowsum, -1).flatten()\n",
    "    r_inv[np.isinf(r_inv)] = 0.\n",
    "    r_mat_inv = sp.diags(r_inv)\n",
    "    mx = r_mat_inv.dot(mx)\n",
    "    return mx\n",
    "\n",
    "time1 = time.time()\n",
    "# norm_A = normalize(np.eye(34) + A)\n",
    "\n",
    "temp = np.zeros((n_samples, 3))\n",
    "for i in range(20):\n",
    "    A_ = np.multiply(np.random.binomial(1, 0.95, n_samples * n_samples).reshape(n_samples, n_samples), A)\n",
    "    norm_A = normalize(A_)\n",
    "    \n",
    "    X = np.random.randn(n_samples, 3)\n",
    "    for i in range(50):\n",
    "        X = norm_A @ X\n",
    "#         X = X - X.mean(axis=0)\n",
    "#         X = X @ np.diag(np.array(X.std(axis=0)).flatten() ** (-1))\n",
    "    temp = temp + X\n",
    "    \n",
    "time2 = time.time()\n",
    "print(time2 - time1)\n",
    "\n",
    "kmeans = KMeans(n_clusters=3).fit(temp)\n",
    "print(fowlkes_mallows_score(blobs[1], kmeans.labels_))\n",
    "\n",
    "W = reduce(X)\n",
    "print(temp.shape, X, W)\n",
    "plt.figure(figsize=(6, 4))\n",
    "plt.scatter(1000*W[:, 0], 1000000*W[:, 1], cmap=plt.cm.Spectral)"
   ]
  },
  {
   "cell_type": "code",
   "execution_count": 153,
   "metadata": {},
   "outputs": [
    {
     "name": "stdout",
     "output_type": "stream",
     "text": [
      "10.14874529838562\n",
      "[[ 0.02581989  0.02110064  0.02555714]\n",
      " [ 0.02581989  0.0218644   0.03054537]\n",
      " [ 0.02581989  0.02221156  0.03116208]\n",
      " ...\n",
      " [ 0.02581989  0.02243231  0.03222389]\n",
      " [ 0.02581989 -0.03589744  0.00418718]\n",
      " [ 0.02581989 -0.034947    0.00364358]] [[-0.01682532  0.02855369]\n",
      " [-0.02125373  0.03097338]\n",
      " [-0.02171501  0.03151011]\n",
      " ...\n",
      " [-0.02263781  0.03207986]\n",
      " [-0.01618255 -0.03231538]\n",
      " [-0.01534732 -0.03160741]]\n"
     ]
    },
    {
     "data": {
      "text/plain": [
       "<matplotlib.collections.PathCollection at 0x7fe5bbf34c18>"
      ]
     },
     "execution_count": 153,
     "metadata": {},
     "output_type": "execute_result"
    },
    {
     "data": {
      "image/png": "[encoded data removed]",
      "text/plain": [
       "<Figure size 432x288 with 1 Axes>"
      ]
     },
     "metadata": {
      "needs_background": "light"
     },
     "output_type": "display_data"
    }
   ],
   "source": [
    "time1 = time.time()\n",
    "# clustering = SpectralClustering(n_clusters=num_clusters, affinity='nearest_neighbors').fit(A)\n",
    "\n",
    "D = np.diag(np.sum(A, axis=1))\n",
    "# print(D)\n",
    "L = D - A\n",
    "vals, vecs = np.linalg.eig( L)\n",
    "vecs = vecs[:,np.argsort(vals)]\n",
    "vals = vals[np.argsort(vals)]\n",
    "\n",
    "vecs = vecs[:, :3]\n",
    "# print(vecs[])\n",
    "\n",
    "clustering = KMeans(n_clusters=3).fit(vecs)\n",
    "# clustering.labels_\n",
    "# sum(clustering.labels_)/len(clustering.labels_)\n",
    "\n",
    "time2 = time.time()\n",
    "# sum(clustering.labels_)\n",
    "\n",
    "print(time2-time1)\n",
    "\n",
    "W = reduce(vecs)\n",
    "print( vecs, W)\n",
    "plt.figure(figsize=(6, 4))\n",
    "plt.scatter(W[:, 0], W[:, 1], cmap=plt.cm.Spectral)"
   ]
  },
  {
   "cell_type": "code",
   "execution_count": 75,
   "metadata": {},
   "outputs": [
    {
     "name": "stdout",
     "output_type": "stream",
     "text": [
      "1.0\n",
      "1.0\n",
      "1.0\n",
      "1.0\n",
      "1.0\n",
      "1.0\n"
     ]
    }
   ],
   "source": [
    "target = blobs[1]\n",
    "print(completeness_score(target, clustering.labels_))\n",
    "print(v_measure_score(target, clustering.labels_))\n",
    "print(homogeneity_score(target, clustering.labels_))\n",
    "print(adjusted_rand_score(target, clustering.labels_))\n",
    "print(fowlkes_mallows_score(target, clustering.labels_))\n",
    "print(adjusted_mutual_info_score(target, clustering.labels_))"
   ]
  }
 ],
 "metadata": {
  "kernelspec": {
   "display_name": "Python 3",
   "language": "python",
   "name": "python3"
  },
  "language_info": {
   "codemirror_mode": {
    "name": "ipython",
    "version": 3
   },
   "file_extension": ".py",
   "mimetype": "text/x-python",
   "name": "python",
   "nbconvert_exporter": "python",
   "pygments_lexer": "ipython3",
   "version": "3.6.8"
  }
 },
 "nbformat": 4,
 "nbformat_minor": 4
}
